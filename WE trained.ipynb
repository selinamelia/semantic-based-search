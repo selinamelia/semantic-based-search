{
 "cells": [
  {
   "cell_type": "code",
   "execution_count": 3,
   "metadata": {},
   "outputs": [],
   "source": [
    "import nltk\n",
    "import gensim.models.word2vec as w2v\n",
    "import sklearn.manifold\n",
    "import numpy as np\n",
    "import matplotlib.pyplot as plt\n",
    "import pandas as pd\n",
    "import seaborn as sns"
   ]
  },
  {
   "cell_type": "code",
   "execution_count": 4,
   "metadata": {},
   "outputs": [],
   "source": [
    "import logging\n",
    "import multiprocessing\n",
    "import os\n",
    "import pprint\n",
    "import re"
   ]
  },
  {
   "cell_type": "code",
   "execution_count": 5,
   "metadata": {},
   "outputs": [],
   "source": [
    "#untuk nampilkan info log\n",
    "logging.basicConfig(format='%(asctime)s : %(levelname)s : %(message)s', level=logging.INFO)"
   ]
  },
  {
   "cell_type": "code",
   "execution_count": 6,
   "metadata": {
    "scrolled": true
   },
   "outputs": [
    {
     "name": "stdout",
     "output_type": "stream",
     "text": [
      "panjang korpus 924,167 karakter\n"
     ]
    }
   ],
   "source": [
    "with open (\"tokenkalimat-NEW.txt\", \"r\",encoding='utf-8') as file:\n",
    "    dataset=file.read()\n",
    "    print(\"panjang korpus {0:,} karakter\".format(len(dataset)))"
   ]
  },
  {
   "cell_type": "code",
   "execution_count": 9,
   "metadata": {},
   "outputs": [
    {
     "name": "stdout",
     "output_type": "stream",
     "text": [
      "pernapasan adalah proses menghirup udara atau pergerakan udara dari luar yang mengandung oksigen o₂ masuk ke dalam tubuh atau paru-paru serta menghembuskan udara yang mengandung karbon dioksida co₂ sebagai sisa dari oksidasi ke luar dari tubuh.\n"
     ]
    }
   ],
   "source": [
    "from nltk.tokenize import sent_tokenize, word_tokenize\n",
    "raw_sentences = sent_tokenize(dataset)\n",
    "print(raw_sentences[1])"
   ]
  },
  {
   "cell_type": "code",
   "execution_count": 10,
   "metadata": {},
   "outputs": [],
   "source": [
    "sentences = []\n",
    "def sentence_to_wordlist(raw):\n",
    "    words = raw.split()\n",
    "    return words\n",
    "\n",
    "for raw_sentence in raw_sentences:\n",
    "    #print(raw_sentence[0:3000])\n",
    "    if len(raw_sentence) > 0:\n",
    "        sentences.append(sentence_to_wordlist(raw_sentence))"
   ]
  },
  {
   "cell_type": "code",
   "execution_count": 11,
   "metadata": {},
   "outputs": [
    {
     "data": {
      "text/plain": [
       "6492"
      ]
     },
     "execution_count": 11,
     "metadata": {},
     "output_type": "execute_result"
    }
   ],
   "source": [
    "len(sentences)"
   ]
  },
  {
   "cell_type": "code",
   "execution_count": 12,
   "metadata": {},
   "outputs": [
    {
     "name": "stdout",
     "output_type": "stream",
     "text": [
      "pernapasan adalah proses menghirup udara atau pergerakan udara dari luar yang mengandung oksigen o₂ masuk ke dalam tubuh atau paru-paru serta menghembuskan udara yang mengandung karbon dioksida co₂ sebagai sisa dari oksidasi ke luar dari tubuh.\n",
      "['pernapasan', 'adalah', 'proses', 'menghirup', 'udara', 'atau', 'pergerakan', 'udara', 'dari', 'luar', 'yang', 'mengandung', 'oksigen', 'o₂', 'masuk', 'ke', 'dalam', 'tubuh', 'atau', 'paru-paru', 'serta', 'menghembuskan', 'udara', 'yang', 'mengandung', 'karbon', 'dioksida', 'co₂', 'sebagai', 'sisa', 'dari', 'oksidasi', 'ke', 'luar', 'dari', 'tubuh.']\n"
     ]
    }
   ],
   "source": [
    "print(raw_sentences[1])\n",
    "print(sentence_to_wordlist(raw_sentences[1]))"
   ]
  },
  {
   "cell_type": "code",
   "execution_count": 13,
   "metadata": {},
   "outputs": [
    {
     "name": "stdout",
     "output_type": "stream",
     "text": [
      "Korpus berisi 121,403 tokens\n"
     ]
    }
   ],
   "source": [
    "token_count = sum([len(sentence) for sentence in sentences])\n",
    "print(\"Korpus berisi {0:,} tokens\".format(token_count))"
   ]
  },
  {
   "cell_type": "code",
   "execution_count": 14,
   "metadata": {},
   "outputs": [],
   "source": [
    "#train word2vec\n",
    "\n",
    "num_features = 300\n",
    "\n",
    "#minimum word count threshold\n",
    "min_word_count = 3\n",
    "\n",
    "#number of thread to run in paralel\n",
    "num_workers = multiprocessing.cpu_count()\n",
    "\n",
    "#context window length\n",
    "context_size = 10\n",
    "\n",
    "#downsample setting for frequent word, rate 0 and 1e-5, dan seberapa sering digunakan\n",
    "downsampling = 1e-3\n",
    "seed = 1\n"
   ]
  },
  {
   "cell_type": "code",
   "execution_count": 15,
   "metadata": {},
   "outputs": [],
   "source": [
    "W2vec = w2v.Word2Vec(\n",
    "    sg=0,\n",
    "    hs=1,\n",
    "    compute_loss=True,\n",
    "    workers=num_workers,\n",
    "    size=num_features,\n",
    "    min_count=min_word_count,\n",
    "    window=context_size\n",
    ")"
   ]
  },
  {
   "cell_type": "code",
   "execution_count": 16,
   "metadata": {},
   "outputs": [
    {
     "name": "stderr",
     "output_type": "stream",
     "text": [
      "2020-08-10 23:16:25,187 : INFO : collecting all words and their counts\n",
      "2020-08-10 23:16:25,188 : INFO : PROGRESS: at sentence #0, processed 0 words, keeping 0 word types\n",
      "2020-08-10 23:16:25,229 : INFO : collected 9656 word types from a corpus of 121403 raw words and 6492 sentences\n",
      "2020-08-10 23:16:25,230 : INFO : Loading a fresh vocabulary\n",
      "2020-08-10 23:16:25,251 : INFO : effective_min_count=3 retains 4170 unique words (43% of original 9656, drops 5486)\n",
      "2020-08-10 23:16:25,252 : INFO : effective_min_count=3 leaves 114431 word corpus (94% of original 121403, drops 6972)\n",
      "2020-08-10 23:16:25,380 : INFO : deleting the raw counts dictionary of 9656 items\n",
      "2020-08-10 23:16:25,382 : INFO : sample=0.001 downsamples 52 most-common words\n",
      "2020-08-10 23:16:25,383 : INFO : downsampling leaves estimated 89957 word corpus (78.6% of prior 114431)\n",
      "2020-08-10 23:16:25,390 : INFO : constructing a huffman tree from 4170 words\n",
      "2020-08-10 23:16:25,572 : INFO : built huffman tree with maximum node depth 15\n",
      "2020-08-10 23:16:25,587 : INFO : estimated required memory for 4170 words and 300 dimensions: 17931000 bytes\n",
      "2020-08-10 23:16:25,588 : INFO : resetting layer weights\n"
     ]
    }
   ],
   "source": [
    "W2vec.build_vocab(sentences)"
   ]
  },
  {
   "cell_type": "code",
   "execution_count": 17,
   "metadata": {},
   "outputs": [
    {
     "name": "stdout",
     "output_type": "stream",
     "text": [
      "panjang vocab Word2Vec: 4170\n"
     ]
    }
   ],
   "source": [
    "print(\"panjang vocab Word2Vec:\", len(W2vec.wv.vocab))"
   ]
  },
  {
   "cell_type": "code",
   "execution_count": 18,
   "metadata": {},
   "outputs": [
    {
     "name": "stderr",
     "output_type": "stream",
     "text": [
      "2020-08-10 23:17:09,595 : INFO : training model with 4 workers on 4170 vocabulary and 300 features, using sg=0 hs=1 sample=0.001 negative=5 window=10\n",
      "2020-08-10 23:17:10,274 : INFO : worker thread finished; awaiting finish of 3 more threads\n",
      "2020-08-10 23:17:10,281 : INFO : worker thread finished; awaiting finish of 2 more threads\n",
      "2020-08-10 23:17:10,286 : INFO : worker thread finished; awaiting finish of 1 more threads\n",
      "2020-08-10 23:17:10,296 : INFO : worker thread finished; awaiting finish of 0 more threads\n",
      "2020-08-10 23:17:10,298 : INFO : EPOCH - 1 : training on 121403 raw words (89881 effective words) took 0.5s, 176457 effective words/s\n",
      "2020-08-10 23:17:10,711 : INFO : worker thread finished; awaiting finish of 3 more threads\n",
      "2020-08-10 23:17:10,716 : INFO : worker thread finished; awaiting finish of 2 more threads\n",
      "2020-08-10 23:17:10,732 : INFO : worker thread finished; awaiting finish of 1 more threads\n",
      "2020-08-10 23:17:10,740 : INFO : worker thread finished; awaiting finish of 0 more threads\n",
      "2020-08-10 23:17:10,743 : INFO : EPOCH - 2 : training on 121403 raw words (90016 effective words) took 0.4s, 218421 effective words/s\n",
      "2020-08-10 23:17:11,178 : INFO : worker thread finished; awaiting finish of 3 more threads\n",
      "2020-08-10 23:17:11,188 : INFO : worker thread finished; awaiting finish of 2 more threads\n",
      "2020-08-10 23:17:11,191 : INFO : worker thread finished; awaiting finish of 1 more threads\n",
      "2020-08-10 23:17:11,196 : INFO : worker thread finished; awaiting finish of 0 more threads\n",
      "2020-08-10 23:17:11,197 : INFO : EPOCH - 3 : training on 121403 raw words (89967 effective words) took 0.4s, 214117 effective words/s\n",
      "2020-08-10 23:17:11,626 : INFO : worker thread finished; awaiting finish of 3 more threads\n",
      "2020-08-10 23:17:11,638 : INFO : worker thread finished; awaiting finish of 2 more threads\n",
      "2020-08-10 23:17:11,653 : INFO : worker thread finished; awaiting finish of 1 more threads\n",
      "2020-08-10 23:17:11,662 : INFO : worker thread finished; awaiting finish of 0 more threads\n",
      "2020-08-10 23:17:11,663 : INFO : EPOCH - 4 : training on 121403 raw words (89895 effective words) took 0.4s, 208166 effective words/s\n",
      "2020-08-10 23:17:12,130 : INFO : worker thread finished; awaiting finish of 3 more threads\n",
      "2020-08-10 23:17:12,147 : INFO : worker thread finished; awaiting finish of 2 more threads\n",
      "2020-08-10 23:17:12,148 : INFO : worker thread finished; awaiting finish of 1 more threads\n",
      "2020-08-10 23:17:12,158 : INFO : worker thread finished; awaiting finish of 0 more threads\n",
      "2020-08-10 23:17:12,159 : INFO : EPOCH - 5 : training on 121403 raw words (89861 effective words) took 0.5s, 188397 effective words/s\n",
      "2020-08-10 23:17:12,162 : INFO : training on a 607015 raw words (449620 effective words) took 2.6s, 175221 effective words/s\n"
     ]
    }
   ],
   "source": [
    "#train model on sentences\n",
    "W2vec.train(sentences, epochs=W2vec.epochs, total_examples=W2vec.corpus_count)\n",
    "\n",
    "#save model\n",
    "if not os.path.exists(\"trained\"):\n",
    "    os.makedirs(\"trained\")"
   ]
  },
  {
   "cell_type": "code",
   "execution_count": 19,
   "metadata": {},
   "outputs": [
    {
     "name": "stderr",
     "output_type": "stream",
     "text": [
      "2020-08-10 23:17:44,585 : INFO : saving Word2Vec object under trained\\w2vec.w2v, separately None\n",
      "2020-08-10 23:17:44,587 : INFO : not storing attribute vectors_norm\n",
      "2020-08-10 23:17:44,590 : INFO : not storing attribute cum_table\n",
      "2020-08-10 23:17:45,152 : INFO : saved trained\\w2vec.w2v\n"
     ]
    }
   ],
   "source": [
    "W2vec.save(os.path.join(\"trained\", \"w2vec.w2v\"))"
   ]
  },
  {
   "cell_type": "code",
   "execution_count": 20,
   "metadata": {},
   "outputs": [
    {
     "name": "stderr",
     "output_type": "stream",
     "text": [
      "2020-08-10 23:18:24,827 : INFO : loading Word2Vec object from trained\\W2vec.w2v\n",
      "2020-08-10 23:18:25,115 : INFO : loading wv recursively from trained\\W2vec.w2v.wv.* with mmap=None\n",
      "2020-08-10 23:18:25,116 : INFO : setting ignored attribute vectors_norm to None\n",
      "2020-08-10 23:18:25,117 : INFO : loading vocabulary recursively from trained\\W2vec.w2v.vocabulary.* with mmap=None\n",
      "2020-08-10 23:18:25,119 : INFO : loading trainables recursively from trained\\W2vec.w2v.trainables.* with mmap=None\n",
      "2020-08-10 23:18:25,120 : INFO : setting ignored attribute cum_table to None\n",
      "2020-08-10 23:18:25,121 : INFO : loaded trained\\W2vec.w2v\n"
     ]
    }
   ],
   "source": [
    "#load model\n",
    "W2vec = w2v.Word2Vec.load(os.path.join(\"trained\", \"W2vec.w2v\"))"
   ]
  },
  {
   "cell_type": "code",
   "execution_count": 21,
   "metadata": {},
   "outputs": [],
   "source": [
    "#squash dimensionality to 2\n",
    "#https://www.oreilly.com/learning/an-illustrated-introduction-to-the-t-sne-algorithm\n",
    "tsne = sklearn.manifold.TSNE(n_components=2, random_state=0)"
   ]
  },
  {
   "cell_type": "code",
   "execution_count": 22,
   "metadata": {},
   "outputs": [
    {
     "name": "stdout",
     "output_type": "stream",
     "text": [
      "[[-0.24478266 -0.226663   -0.05594391 ...  0.24059016 -0.4397089\n",
      "  -0.3082923 ]\n",
      " [ 0.32164282  0.00710829 -0.05612736 ...  0.15427828 -0.01928232\n",
      "  -0.06207159]\n",
      " [-0.1594138  -0.06399797  0.01223606 ...  0.1194519  -0.03366546\n",
      "  -0.16154535]\n",
      " ...\n",
      " [-0.00583709 -0.01472262  0.01329877 ...  0.0134404  -0.05378196\n",
      "  -0.02367529]\n",
      " [-0.03482389 -0.01022035 -0.00958572 ... -0.00544981  0.00436708\n",
      "  -0.00657194]\n",
      " [ 0.00075201 -0.01890516 -0.01528563 ... -0.00686005 -0.04912762\n",
      "  -0.04505155]]\n"
     ]
    },
    {
     "name": "stderr",
     "output_type": "stream",
     "text": [
      "C:\\Users\\Selina\\Anaconda3\\lib\\site-packages\\ipykernel_launcher.py:2: DeprecationWarning: Call to deprecated `syn0` (Attribute will be removed in 4.0.0, use self.vectors instead).\n",
      "  \n"
     ]
    }
   ],
   "source": [
    "#put it all into a giant matrix\n",
    "all_word_vectors_matrix = W2vec.wv.syn0\n",
    "print(all_word_vectors_matrix)"
   ]
  },
  {
   "cell_type": "code",
   "execution_count": 23,
   "metadata": {},
   "outputs": [],
   "source": [
    "#train t sne\n",
    "all_word_vectors_matrix_2d = tsne.fit_transform(all_word_vectors_matrix)"
   ]
  },
  {
   "cell_type": "code",
   "execution_count": 24,
   "metadata": {},
   "outputs": [],
   "source": [
    "#visualisasi vektor jadi 2d\n",
    "points = pd.DataFrame(\n",
    "    [\n",
    "        (word, coords[0], coords[1])\n",
    "        for word, coords in [\n",
    "            (word, all_word_vectors_matrix_2d[W2vec.wv.vocab[word].index])\n",
    "            for word in W2vec.wv.vocab\n",
    "        ]\n",
    "    ],\n",
    "    columns=[\"word\", \"x\", \"y\"]\n",
    ")"
   ]
  },
  {
   "cell_type": "code",
   "execution_count": 25,
   "metadata": {},
   "outputs": [
    {
     "data": {
      "text/plain": [
       "<matplotlib.axes._subplots.AxesSubplot at 0x1d304ecbf98>"
      ]
     },
     "execution_count": 25,
     "metadata": {},
     "output_type": "execute_result"
    },
    {
     "data": {
      "image/png": "[encoded data removed]",
      "text/plain": [
       "<Figure size 1440x864 with 1 Axes>"
      ]
     },
     "metadata": {},
     "output_type": "display_data"
    }
   ],
   "source": [
    "#visualisasikan\n",
    "sns.set_context(\"poster\")\n",
    "points.plot.scatter(\"x\", \"y\", s=10, figsize=(20, 12))"
   ]
  },
  {
   "cell_type": "code",
   "execution_count": 26,
   "metadata": {},
   "outputs": [
    {
     "name": "stderr",
     "output_type": "stream",
     "text": [
      "2020-08-10 23:20:51,144 : INFO : precomputing L2-norms of word weight vectors\n"
     ]
    },
    {
     "data": {
      "text/plain": [
       "[('segmentasi', 0.9188476800918579),\n",
       " ('segmentation', 0.9147875308990479),\n",
       " ('contrast', 0.9129440188407898),\n",
       " ('grayscaling', 0.909874677658081),\n",
       " ('aktivasi', 0.9097235202789307),\n",
       " ('optimizer', 0.9088183045387268)]"
      ]
     },
     "execution_count": 26,
     "metadata": {},
     "output_type": "execute_result"
    }
   ],
   "source": [
    "#dimensi 200, windows \n",
    "W2vec.wv.most_similar(\"grayscale\", topn=6)"
   ]
  },
  {
   "cell_type": "code",
   "execution_count": 27,
   "metadata": {},
   "outputs": [
    {
     "data": {
      "text/plain": [
       "[('dekripsi', 0.9484173059463501),\n",
       " ('plainteks', 0.9326151609420776),\n",
       " ('dienkripsi', 0.9213732481002808),\n",
       " ('ciphertext', 0.9161216020584106),\n",
       " ('kunci', 0.8949669599533081),\n",
       " ('plaintext', 0.888558030128479),\n",
       " ('cipherteks', 0.8855087757110596),\n",
       " ('sama', 0.882301926612854),\n",
       " ('2-bit', 0.8758023381233215),\n",
       " ('dekripsi.', 0.8726695775985718)]"
      ]
     },
     "execution_count": 27,
     "metadata": {},
     "output_type": "execute_result"
    }
   ],
   "source": [
    "W2vec.wv.most_similar(\"enkripsi\")"
   ]
  },
  {
   "cell_type": "code",
   "execution_count": 28,
   "metadata": {},
   "outputs": [
    {
     "data": {
      "text/plain": [
       "[('code', 0.9115353226661682),\n",
       " ('file.', 0.9082618355751038),\n",
       " ('codes', 0.9027690291404724),\n",
       " ('fibonacci', 0.9024911522865295),\n",
       " ('elias', 0.8928587436676025),\n",
       " ('dikompresi', 0.8873296976089478),\n",
       " ('g1', 0.8845429420471191),\n",
       " ('mengkompresi', 0.881920576095581),\n",
       " ('alternate', 0.8813444375991821),\n",
       " ('jpg', 0.8745254278182983)]"
      ]
     },
     "execution_count": 28,
     "metadata": {},
     "output_type": "execute_result"
    }
   ],
   "source": [
    "W2vec.wv.most_similar(\"kompresi\")"
   ]
  },
  {
   "cell_type": "code",
   "execution_count": 29,
   "metadata": {},
   "outputs": [
    {
     "data": {
      "text/plain": [
       "0.6193118"
      ]
     },
     "execution_count": 29,
     "metadata": {},
     "output_type": "execute_result"
    }
   ],
   "source": [
    "#cosine similarity\n",
    "W2vec.wv.similarity(w1=\"jaringan\",w2=\"sinyal\")"
   ]
  },
  {
   "cell_type": "code",
   "execution_count": 30,
   "metadata": {},
   "outputs": [
    {
     "data": {
      "text/plain": [
       "0.4747374"
      ]
     },
     "execution_count": 30,
     "metadata": {},
     "output_type": "execute_result"
    }
   ],
   "source": [
    "#cosine similarity\n",
    "W2vec.wv.similarity(w1=\"citra\",w2=\"enkripsi\")"
   ]
  },
  {
   "cell_type": "code",
   "execution_count": 88,
   "metadata": {},
   "outputs": [],
   "source": [
    "###########"
   ]
  },
  {
   "cell_type": "code",
   "execution_count": 31,
   "metadata": {},
   "outputs": [
    {
     "name": "stdout",
     "output_type": "stream",
     "text": [
      "panjang korpus 56,353,917 karakter\n",
      "medan      desember          albert               iii universitas sumatera utara x c penghargaan    puji dan syukur penulis panjatkan kepada tuhan yang maha pemurah dan maha penyayang  dengan melimpahkan kurnia-nya kertas kajian ini berhasil diselesaikan dalam waktu yang telah ditetapkan.\n"
     ]
    }
   ],
   "source": [
    "#dengan dataset mala\n",
    "with open (\"mala_results_clean.txt\", \"r\",encoding='utf-8') as file:\n",
    "    dataset=file.read()\n",
    "    print(\"panjang korpus {0:,} karakter\".format(len(dataset)))\n",
    "\n",
    "from nltk.tokenize import sent_tokenize, word_tokenize\n",
    "raw_sentences = sent_tokenize(dataset)\n",
    "print(raw_sentences[1])\n",
    "\n",
    "sentences = []\n",
    "def sentence_to_wordlist(raw):\n",
    "    words = raw.split()\n",
    "    return words\n",
    "\n",
    "for raw_sentence in raw_sentences:\n",
    "    #print(raw_sentence[0:3000])\n",
    "    if len(raw_sentence) > 0:\n",
    "        sentences.append(sentence_to_wordlist(raw_sentence))"
   ]
  },
  {
   "cell_type": "code",
   "execution_count": 32,
   "metadata": {},
   "outputs": [
    {
     "name": "stdout",
     "output_type": "stream",
     "text": [
      "Korpus berisi 7,166,099 tokens\n"
     ]
    }
   ],
   "source": [
    "token_count = sum([len(sentence) for sentence in sentences])\n",
    "print(\"Korpus berisi {0:,} tokens\".format(token_count))"
   ]
  },
  {
   "cell_type": "code",
   "execution_count": 33,
   "metadata": {},
   "outputs": [
    {
     "name": "stderr",
     "output_type": "stream",
     "text": [
      "2020-08-10 23:22:48,605 : INFO : collecting all words and their counts\n",
      "2020-08-10 23:22:48,606 : INFO : PROGRESS: at sentence #0, processed 0 words, keeping 0 word types\n",
      "2020-08-10 23:22:48,652 : INFO : PROGRESS: at sentence #10000, processed 160744 words, keeping 11923 word types\n",
      "2020-08-10 23:22:48,686 : INFO : PROGRESS: at sentence #20000, processed 311477 words, keeping 18200 word types\n",
      "2020-08-10 23:22:48,724 : INFO : PROGRESS: at sentence #30000, processed 470760 words, keeping 25559 word types\n",
      "2020-08-10 23:22:48,758 : INFO : PROGRESS: at sentence #40000, processed 612181 words, keeping 29030 word types\n",
      "2020-08-10 23:22:48,795 : INFO : PROGRESS: at sentence #50000, processed 774575 words, keeping 34289 word types\n",
      "2020-08-10 23:22:48,855 : INFO : PROGRESS: at sentence #60000, processed 914446 words, keeping 39161 word types\n",
      "2020-08-10 23:22:48,889 : INFO : PROGRESS: at sentence #70000, processed 1026228 words, keeping 41195 word types\n",
      "2020-08-10 23:22:48,954 : INFO : PROGRESS: at sentence #80000, processed 1203426 words, keeping 44417 word types\n",
      "2020-08-10 23:22:49,002 : INFO : PROGRESS: at sentence #90000, processed 1342378 words, keeping 46517 word types\n",
      "2020-08-10 23:22:49,052 : INFO : PROGRESS: at sentence #100000, processed 1448053 words, keeping 49793 word types\n",
      "2020-08-10 23:22:49,113 : INFO : PROGRESS: at sentence #110000, processed 1573678 words, keeping 52883 word types\n",
      "2020-08-10 23:22:49,140 : INFO : PROGRESS: at sentence #120000, processed 1631015 words, keeping 53866 word types\n",
      "2020-08-10 23:22:49,202 : INFO : PROGRESS: at sentence #130000, processed 1779972 words, keeping 57422 word types\n",
      "2020-08-10 23:22:49,264 : INFO : PROGRESS: at sentence #140000, processed 1915561 words, keeping 59876 word types\n",
      "2020-08-10 23:22:49,303 : INFO : PROGRESS: at sentence #150000, processed 2054728 words, keeping 62199 word types\n",
      "2020-08-10 23:22:49,362 : INFO : PROGRESS: at sentence #160000, processed 2213222 words, keeping 64396 word types\n",
      "2020-08-10 23:22:49,420 : INFO : PROGRESS: at sentence #170000, processed 2368960 words, keeping 67124 word types\n",
      "2020-08-10 23:22:49,467 : INFO : PROGRESS: at sentence #180000, processed 2521187 words, keeping 69466 word types\n",
      "2020-08-10 23:22:49,522 : INFO : PROGRESS: at sentence #190000, processed 2679990 words, keeping 74634 word types\n",
      "2020-08-10 23:22:49,573 : INFO : PROGRESS: at sentence #200000, processed 2817079 words, keeping 77295 word types\n",
      "2020-08-10 23:22:49,628 : INFO : PROGRESS: at sentence #210000, processed 2958174 words, keeping 79507 word types\n",
      "2020-08-10 23:22:49,678 : INFO : PROGRESS: at sentence #220000, processed 3097491 words, keeping 81396 word types\n",
      "2020-08-10 23:22:49,738 : INFO : PROGRESS: at sentence #230000, processed 3256236 words, keeping 85037 word types\n",
      "2020-08-10 23:22:49,792 : INFO : PROGRESS: at sentence #240000, processed 3366818 words, keeping 87620 word types\n",
      "2020-08-10 23:22:49,819 : INFO : PROGRESS: at sentence #250000, processed 3497545 words, keeping 90020 word types\n",
      "2020-08-10 23:22:49,887 : INFO : PROGRESS: at sentence #260000, processed 3656037 words, keeping 91673 word types\n",
      "2020-08-10 23:22:49,946 : INFO : PROGRESS: at sentence #270000, processed 3803518 words, keeping 92916 word types\n",
      "2020-08-10 23:22:49,997 : INFO : PROGRESS: at sentence #280000, processed 3954472 words, keeping 94515 word types\n",
      "2020-08-10 23:22:50,049 : INFO : PROGRESS: at sentence #290000, processed 4101574 words, keeping 96301 word types\n",
      "2020-08-10 23:22:50,083 : INFO : PROGRESS: at sentence #300000, processed 4268723 words, keeping 98452 word types\n",
      "2020-08-10 23:22:50,130 : INFO : PROGRESS: at sentence #310000, processed 4428937 words, keeping 101151 word types\n",
      "2020-08-10 23:22:50,212 : INFO : PROGRESS: at sentence #320000, processed 4590539 words, keeping 104178 word types\n",
      "2020-08-10 23:22:50,279 : INFO : PROGRESS: at sentence #330000, processed 4728523 words, keeping 106492 word types\n",
      "2020-08-10 23:22:50,328 : INFO : PROGRESS: at sentence #340000, processed 4874877 words, keeping 108992 word types\n",
      "2020-08-10 23:22:50,380 : INFO : PROGRESS: at sentence #350000, processed 5035019 words, keeping 112040 word types\n",
      "2020-08-10 23:22:50,439 : INFO : PROGRESS: at sentence #360000, processed 5208494 words, keeping 114938 word types\n",
      "2020-08-10 23:22:50,453 : INFO : PROGRESS: at sentence #370000, processed 5255135 words, keeping 115755 word types\n",
      "2020-08-10 23:22:50,484 : INFO : PROGRESS: at sentence #380000, processed 5327854 words, keeping 116678 word types\n",
      "2020-08-10 23:22:50,505 : INFO : PROGRESS: at sentence #390000, processed 5394770 words, keeping 117338 word types\n",
      "2020-08-10 23:22:50,526 : INFO : PROGRESS: at sentence #400000, processed 5424893 words, keeping 119010 word types\n",
      "2020-08-10 23:22:50,583 : INFO : PROGRESS: at sentence #410000, processed 5531456 words, keeping 119901 word types\n",
      "2020-08-10 23:22:50,623 : INFO : PROGRESS: at sentence #420000, processed 5690864 words, keeping 121735 word types\n",
      "2020-08-10 23:22:50,646 : INFO : PROGRESS: at sentence #430000, processed 5769606 words, keeping 123259 word types\n",
      "2020-08-10 23:22:50,666 : INFO : PROGRESS: at sentence #440000, processed 5809654 words, keeping 123592 word types\n",
      "2020-08-10 23:22:50,718 : INFO : PROGRESS: at sentence #450000, processed 5916634 words, keeping 126431 word types\n",
      "2020-08-10 23:22:50,747 : INFO : PROGRESS: at sentence #460000, processed 5995135 words, keeping 130785 word types\n",
      "2020-08-10 23:22:50,788 : INFO : PROGRESS: at sentence #470000, processed 6091854 words, keeping 131954 word types\n",
      "2020-08-10 23:22:50,817 : INFO : PROGRESS: at sentence #480000, processed 6181364 words, keeping 132922 word types\n",
      "2020-08-10 23:22:50,828 : INFO : PROGRESS: at sentence #490000, processed 6205708 words, keeping 132948 word types\n",
      "2020-08-10 23:22:50,876 : INFO : PROGRESS: at sentence #500000, processed 6302999 words, keeping 134341 word types\n",
      "2020-08-10 23:22:50,899 : INFO : PROGRESS: at sentence #510000, processed 6388788 words, keeping 135279 word types\n",
      "2020-08-10 23:22:50,936 : INFO : PROGRESS: at sentence #520000, processed 6521062 words, keeping 137583 word types\n",
      "2020-08-10 23:22:50,985 : INFO : PROGRESS: at sentence #530000, processed 6650708 words, keeping 138623 word types\n",
      "2020-08-10 23:22:51,008 : INFO : PROGRESS: at sentence #540000, processed 6736950 words, keeping 139486 word types\n",
      "2020-08-10 23:22:51,015 : INFO : PROGRESS: at sentence #550000, processed 6756950 words, keeping 139486 word types\n",
      "2020-08-10 23:22:51,029 : INFO : PROGRESS: at sentence #560000, processed 6801105 words, keeping 139850 word types\n",
      "2020-08-10 23:22:51,068 : INFO : PROGRESS: at sentence #570000, processed 6912280 words, keeping 141006 word types\n",
      "2020-08-10 23:22:51,091 : INFO : PROGRESS: at sentence #580000, processed 6992363 words, keeping 141805 word types\n",
      "2020-08-10 23:22:51,124 : INFO : PROGRESS: at sentence #590000, processed 7117952 words, keeping 142679 word types\n",
      "2020-08-10 23:22:51,140 : INFO : collected 143228 word types from a corpus of 7166099 raw words and 598987 sentences\n",
      "2020-08-10 23:22:51,141 : INFO : Loading a fresh vocabulary\n",
      "2020-08-10 23:22:51,500 : INFO : effective_min_count=3 retains 49489 unique words (34% of original 143228, drops 93739)\n",
      "2020-08-10 23:22:51,501 : INFO : effective_min_count=3 leaves 7051606 word corpus (98% of original 7166099, drops 114493)\n",
      "2020-08-10 23:22:51,687 : INFO : deleting the raw counts dictionary of 143228 items\n",
      "2020-08-10 23:22:51,693 : INFO : sample=0.001 downsamples 44 most-common words\n",
      "2020-08-10 23:22:51,694 : INFO : downsampling leaves estimated 5725197 word corpus (81.2% of prior 7051606)\n",
      "2020-08-10 23:22:51,772 : INFO : constructing a huffman tree from 49489 words\n",
      "2020-08-10 23:22:53,489 : INFO : built huffman tree with maximum node depth 21\n",
      "2020-08-10 23:22:53,613 : INFO : estimated required memory for 49489 words and 300 dimensions: 212802700 bytes\n",
      "2020-08-10 23:22:53,614 : INFO : resetting layer weights\n"
     ]
    }
   ],
   "source": [
    "#train word2vec\n",
    "\n",
    "num_features = 300\n",
    "\n",
    "#minimum word count threshold\n",
    "min_word_count = 3\n",
    "\n",
    "#number of thread to run in paralel\n",
    "num_workers = multiprocessing.cpu_count()\n",
    "\n",
    "#context window length\n",
    "context_size = 10\n",
    "\n",
    "#downsample setting for frequent word, rate 0 and 1e-5, dan seberapa sering digunakan\n",
    "downsampling = 1e-3\n",
    "seed = 1\n",
    "\n",
    "W2vec = w2v.Word2Vec(\n",
    "    sg=0,\n",
    "    hs=1,\n",
    "    compute_loss=True,\n",
    "    workers=num_workers,\n",
    "    size=num_features,\n",
    "    min_count=min_word_count,\n",
    "    window=context_size\n",
    ")\n",
    "\n",
    "W2vec.build_vocab(sentences)"
   ]
  },
  {
   "cell_type": "code",
   "execution_count": 34,
   "metadata": {},
   "outputs": [
    {
     "name": "stdout",
     "output_type": "stream",
     "text": [
      "panjang vocab: 49489\n"
     ]
    }
   ],
   "source": [
    "print(\"panjang vocab:\", len(W2vec.wv.vocab))"
   ]
  },
  {
   "cell_type": "code",
   "execution_count": 35,
   "metadata": {},
   "outputs": [
    {
     "name": "stderr",
     "output_type": "stream",
     "text": [
      "2020-08-10 23:23:18,003 : INFO : training model with 4 workers on 49489 vocabulary and 300 features, using sg=0 hs=1 sample=0.001 negative=5 window=10\n",
      "2020-08-10 23:23:19,026 : INFO : EPOCH 1 - PROGRESS: at 3.99% examples, 308264 words/s, in_qsize 7, out_qsize 0\n",
      "2020-08-10 23:23:20,075 : INFO : EPOCH 1 - PROGRESS: at 8.48% examples, 307735 words/s, in_qsize 8, out_qsize 0\n",
      "2020-08-10 23:23:21,096 : INFO : EPOCH 1 - PROGRESS: at 13.49% examples, 320561 words/s, in_qsize 7, out_qsize 0\n",
      "2020-08-10 23:23:22,114 : INFO : EPOCH 1 - PROGRESS: at 20.05% examples, 321787 words/s, in_qsize 8, out_qsize 0\n",
      "2020-08-10 23:23:23,121 : INFO : EPOCH 1 - PROGRESS: at 24.71% examples, 320012 words/s, in_qsize 8, out_qsize 1\n",
      "2020-08-10 23:23:24,148 : INFO : EPOCH 1 - PROGRESS: at 28.39% examples, 312551 words/s, in_qsize 8, out_qsize 1\n",
      "2020-08-10 23:23:25,189 : INFO : EPOCH 1 - PROGRESS: at 32.02% examples, 304316 words/s, in_qsize 7, out_qsize 0\n",
      "2020-08-10 23:23:26,207 : INFO : EPOCH 1 - PROGRESS: at 35.79% examples, 296992 words/s, in_qsize 8, out_qsize 0\n",
      "2020-08-10 23:23:27,218 : INFO : EPOCH 1 - PROGRESS: at 40.14% examples, 296986 words/s, in_qsize 7, out_qsize 0\n",
      "2020-08-10 23:23:28,294 : INFO : EPOCH 1 - PROGRESS: at 44.81% examples, 297191 words/s, in_qsize 7, out_qsize 2\n",
      "2020-08-10 23:23:29,294 : INFO : EPOCH 1 - PROGRESS: at 49.19% examples, 299661 words/s, in_qsize 7, out_qsize 0\n",
      "2020-08-10 23:23:30,296 : INFO : EPOCH 1 - PROGRESS: at 52.69% examples, 298505 words/s, in_qsize 7, out_qsize 0\n",
      "2020-08-10 23:23:31,311 : INFO : EPOCH 1 - PROGRESS: at 56.92% examples, 297547 words/s, in_qsize 7, out_qsize 0\n",
      "2020-08-10 23:23:32,325 : INFO : EPOCH 1 - PROGRESS: at 62.56% examples, 298001 words/s, in_qsize 8, out_qsize 0\n",
      "2020-08-10 23:23:33,337 : INFO : EPOCH 1 - PROGRESS: at 70.00% examples, 298842 words/s, in_qsize 7, out_qsize 0\n",
      "2020-08-10 23:23:34,408 : INFO : EPOCH 1 - PROGRESS: at 79.80% examples, 301758 words/s, in_qsize 8, out_qsize 0\n",
      "2020-08-10 23:23:35,447 : INFO : EPOCH 1 - PROGRESS: at 85.48% examples, 295006 words/s, in_qsize 8, out_qsize 0\n",
      "2020-08-10 23:23:36,491 : INFO : EPOCH 1 - PROGRESS: at 93.02% examples, 293291 words/s, in_qsize 8, out_qsize 0\n",
      "2020-08-10 23:23:37,530 : INFO : EPOCH 1 - PROGRESS: at 99.44% examples, 292129 words/s, in_qsize 4, out_qsize 0\n",
      "2020-08-10 23:23:37,532 : INFO : worker thread finished; awaiting finish of 3 more threads\n",
      "2020-08-10 23:23:37,567 : INFO : worker thread finished; awaiting finish of 2 more threads\n",
      "2020-08-10 23:23:37,582 : INFO : worker thread finished; awaiting finish of 1 more threads\n",
      "2020-08-10 23:23:37,625 : INFO : worker thread finished; awaiting finish of 0 more threads\n",
      "2020-08-10 23:23:37,626 : INFO : EPOCH - 1 : training on 7166099 raw words (5723172 effective words) took 19.6s, 292004 effective words/s\n",
      "2020-08-10 23:23:38,668 : INFO : EPOCH 2 - PROGRESS: at 3.32% examples, 249386 words/s, in_qsize 7, out_qsize 0\n",
      "2020-08-10 23:23:39,707 : INFO : EPOCH 2 - PROGRESS: at 7.14% examples, 260676 words/s, in_qsize 8, out_qsize 0\n",
      "2020-08-10 23:23:40,737 : INFO : EPOCH 2 - PROGRESS: at 10.74% examples, 251985 words/s, in_qsize 7, out_qsize 0\n",
      "2020-08-10 23:23:41,758 : INFO : EPOCH 2 - PROGRESS: at 14.36% examples, 254004 words/s, in_qsize 7, out_qsize 0\n",
      "2020-08-10 23:23:42,779 : INFO : EPOCH 2 - PROGRESS: at 20.37% examples, 260075 words/s, in_qsize 8, out_qsize 1\n",
      "2020-08-10 23:23:43,789 : INFO : EPOCH 2 - PROGRESS: at 24.60% examples, 264758 words/s, in_qsize 8, out_qsize 2\n",
      "2020-08-10 23:23:44,824 : INFO : EPOCH 2 - PROGRESS: at 28.58% examples, 269342 words/s, in_qsize 7, out_qsize 0\n",
      "2020-08-10 23:23:45,850 : INFO : EPOCH 2 - PROGRESS: at 32.65% examples, 271066 words/s, in_qsize 8, out_qsize 0\n",
      "2020-08-10 23:23:46,852 : INFO : EPOCH 2 - PROGRESS: at 36.73% examples, 272437 words/s, in_qsize 8, out_qsize 0\n",
      "2020-08-10 23:23:47,879 : INFO : EPOCH 2 - PROGRESS: at 41.34% examples, 273244 words/s, in_qsize 6, out_qsize 1\n",
      "2020-08-10 23:23:48,932 : INFO : EPOCH 2 - PROGRESS: at 45.64% examples, 276446 words/s, in_qsize 5, out_qsize 2\n",
      "2020-08-10 23:23:49,949 : INFO : EPOCH 2 - PROGRESS: at 50.06% examples, 280660 words/s, in_qsize 7, out_qsize 0\n",
      "2020-08-10 23:23:51,050 : INFO : EPOCH 2 - PROGRESS: at 53.75% examples, 279580 words/s, in_qsize 7, out_qsize 0\n",
      "2020-08-10 23:23:52,076 : INFO : EPOCH 2 - PROGRESS: at 57.20% examples, 275906 words/s, in_qsize 7, out_qsize 0\n",
      "2020-08-10 23:23:53,106 : INFO : EPOCH 2 - PROGRESS: at 59.25% examples, 268089 words/s, in_qsize 7, out_qsize 0\n",
      "2020-08-10 23:23:54,159 : INFO : EPOCH 2 - PROGRESS: at 68.23% examples, 269084 words/s, in_qsize 7, out_qsize 2\n",
      "2020-08-10 23:23:55,164 : INFO : EPOCH 2 - PROGRESS: at 74.86% examples, 270535 words/s, in_qsize 7, out_qsize 0\n",
      "2020-08-10 23:23:56,194 : INFO : EPOCH 2 - PROGRESS: at 84.13% examples, 273927 words/s, in_qsize 7, out_qsize 0\n",
      "2020-08-10 23:23:57,213 : INFO : EPOCH 2 - PROGRESS: at 90.65% examples, 275765 words/s, in_qsize 8, out_qsize 1\n",
      "2020-08-10 23:23:58,268 : INFO : EPOCH 2 - PROGRESS: at 99.07% examples, 275322 words/s, in_qsize 7, out_qsize 0\n",
      "2020-08-10 23:23:58,426 : INFO : worker thread finished; awaiting finish of 3 more threads\n",
      "2020-08-10 23:23:58,485 : INFO : worker thread finished; awaiting finish of 2 more threads\n",
      "2020-08-10 23:23:58,515 : INFO : worker thread finished; awaiting finish of 1 more threads\n",
      "2020-08-10 23:23:58,554 : INFO : worker thread finished; awaiting finish of 0 more threads\n",
      "2020-08-10 23:23:58,555 : INFO : EPOCH - 2 : training on 7166099 raw words (5723216 effective words) took 20.9s, 273920 effective words/s\n",
      "2020-08-10 23:23:59,647 : INFO : EPOCH 3 - PROGRESS: at 2.80% examples, 202859 words/s, in_qsize 8, out_qsize 1\n",
      "2020-08-10 23:24:00,670 : INFO : EPOCH 3 - PROGRESS: at 6.87% examples, 246508 words/s, in_qsize 8, out_qsize 0\n",
      "2020-08-10 23:24:01,723 : INFO : EPOCH 3 - PROGRESS: at 11.02% examples, 251128 words/s, in_qsize 7, out_qsize 2\n",
      "2020-08-10 23:24:02,726 : INFO : EPOCH 3 - PROGRESS: at 14.71% examples, 258474 words/s, in_qsize 7, out_qsize 0\n",
      "2020-08-10 23:24:03,759 : INFO : EPOCH 3 - PROGRESS: at 20.55% examples, 261406 words/s, in_qsize 8, out_qsize 0\n",
      "2020-08-10 23:24:04,782 : INFO : EPOCH 3 - PROGRESS: at 25.02% examples, 267819 words/s, in_qsize 8, out_qsize 0\n",
      "2020-08-10 23:24:05,786 : INFO : EPOCH 3 - PROGRESS: at 28.31% examples, 265330 words/s, in_qsize 7, out_qsize 0\n",
      "2020-08-10 23:24:06,810 : INFO : EPOCH 3 - PROGRESS: at 32.18% examples, 266629 words/s, in_qsize 8, out_qsize 0\n",
      "2020-08-10 23:24:07,822 : INFO : EPOCH 3 - PROGRESS: at 36.01% examples, 265333 words/s, in_qsize 7, out_qsize 0\n",
      "2020-08-10 23:24:08,857 : INFO : EPOCH 3 - PROGRESS: at 40.61% examples, 267628 words/s, in_qsize 7, out_qsize 0\n",
      "2020-08-10 23:24:09,859 : INFO : EPOCH 3 - PROGRESS: at 44.00% examples, 266087 words/s, in_qsize 8, out_qsize 0\n",
      "2020-08-10 23:24:10,866 : INFO : EPOCH 3 - PROGRESS: at 47.03% examples, 262491 words/s, in_qsize 8, out_qsize 1\n",
      "2020-08-10 23:24:11,871 : INFO : EPOCH 3 - PROGRESS: at 50.85% examples, 264859 words/s, in_qsize 8, out_qsize 0\n",
      "2020-08-10 23:24:12,897 : INFO : EPOCH 3 - PROGRESS: at 54.87% examples, 266983 words/s, in_qsize 7, out_qsize 0\n",
      "2020-08-10 23:24:13,915 : INFO : EPOCH 3 - PROGRESS: at 58.86% examples, 268282 words/s, in_qsize 7, out_qsize 0\n",
      "2020-08-10 23:24:14,923 : INFO : EPOCH 3 - PROGRESS: at 67.78% examples, 270055 words/s, in_qsize 8, out_qsize 0\n",
      "2020-08-10 23:24:15,947 : INFO : EPOCH 3 - PROGRESS: at 73.17% examples, 268491 words/s, in_qsize 7, out_qsize 0\n",
      "2020-08-10 23:24:16,960 : INFO : EPOCH 3 - PROGRESS: at 79.97% examples, 269040 words/s, in_qsize 7, out_qsize 0\n",
      "2020-08-10 23:24:18,031 : INFO : EPOCH 3 - PROGRESS: at 87.15% examples, 269404 words/s, in_qsize 7, out_qsize 0\n",
      "2020-08-10 23:24:19,034 : INFO : EPOCH 3 - PROGRESS: at 93.61% examples, 266177 words/s, in_qsize 6, out_qsize 1\n",
      "2020-08-10 23:24:20,071 : INFO : EPOCH 3 - PROGRESS: at 99.44% examples, 265372 words/s, in_qsize 4, out_qsize 0\n",
      "2020-08-10 23:24:20,093 : INFO : worker thread finished; awaiting finish of 3 more threads\n",
      "2020-08-10 23:24:20,097 : INFO : worker thread finished; awaiting finish of 2 more threads\n",
      "2020-08-10 23:24:20,104 : INFO : worker thread finished; awaiting finish of 1 more threads\n"
     ]
    },
    {
     "name": "stderr",
     "output_type": "stream",
     "text": [
      "2020-08-10 23:24:20,128 : INFO : worker thread finished; awaiting finish of 0 more threads\n",
      "2020-08-10 23:24:20,129 : INFO : EPOCH - 3 : training on 7166099 raw words (5721679 effective words) took 21.5s, 265832 effective words/s\n",
      "2020-08-10 23:24:21,161 : INFO : EPOCH 4 - PROGRESS: at 3.50% examples, 265234 words/s, in_qsize 8, out_qsize 0\n",
      "2020-08-10 23:24:22,206 : INFO : EPOCH 4 - PROGRESS: at 7.67% examples, 279697 words/s, in_qsize 7, out_qsize 0\n",
      "2020-08-10 23:24:23,230 : INFO : EPOCH 4 - PROGRESS: at 11.80% examples, 273083 words/s, in_qsize 7, out_qsize 0\n",
      "2020-08-10 23:24:24,236 : INFO : EPOCH 4 - PROGRESS: at 16.40% examples, 279958 words/s, in_qsize 7, out_qsize 0\n",
      "2020-08-10 23:24:25,266 : INFO : EPOCH 4 - PROGRESS: at 20.99% examples, 270022 words/s, in_qsize 8, out_qsize 0\n",
      "2020-08-10 23:24:26,281 : INFO : EPOCH 4 - PROGRESS: at 24.92% examples, 268786 words/s, in_qsize 7, out_qsize 0\n",
      "2020-08-10 23:24:27,316 : INFO : EPOCH 4 - PROGRESS: at 29.00% examples, 274007 words/s, in_qsize 7, out_qsize 0\n",
      "2020-08-10 23:24:28,404 : INFO : EPOCH 4 - PROGRESS: at 33.32% examples, 274921 words/s, in_qsize 8, out_qsize 1\n",
      "2020-08-10 23:24:29,430 : INFO : EPOCH 4 - PROGRESS: at 37.43% examples, 276205 words/s, in_qsize 8, out_qsize 0\n",
      "2020-08-10 23:24:30,475 : INFO : EPOCH 4 - PROGRESS: at 42.34% examples, 278481 words/s, in_qsize 8, out_qsize 0\n",
      "2020-08-10 23:24:31,484 : INFO : EPOCH 4 - PROGRESS: at 46.40% examples, 280056 words/s, in_qsize 7, out_qsize 0\n",
      "2020-08-10 23:24:32,535 : INFO : EPOCH 4 - PROGRESS: at 50.53% examples, 281868 words/s, in_qsize 7, out_qsize 2\n",
      "2020-08-10 23:24:33,632 : INFO : EPOCH 4 - PROGRESS: at 53.98% examples, 278960 words/s, in_qsize 7, out_qsize 0\n",
      "2020-08-10 23:24:34,652 : INFO : EPOCH 4 - PROGRESS: at 57.62% examples, 276598 words/s, in_qsize 7, out_qsize 0\n",
      "2020-08-10 23:24:35,710 : INFO : EPOCH 4 - PROGRESS: at 62.36% examples, 273407 words/s, in_qsize 7, out_qsize 0\n",
      "2020-08-10 23:24:36,723 : INFO : EPOCH 4 - PROGRESS: at 69.71% examples, 275208 words/s, in_qsize 7, out_qsize 0\n",
      "2020-08-10 23:24:37,725 : INFO : EPOCH 4 - PROGRESS: at 77.34% examples, 276050 words/s, in_qsize 7, out_qsize 0\n",
      "2020-08-10 23:24:38,812 : INFO : EPOCH 4 - PROGRESS: at 86.25% examples, 277548 words/s, in_qsize 6, out_qsize 1\n",
      "2020-08-10 23:24:39,852 : INFO : EPOCH 4 - PROGRESS: at 95.45% examples, 280082 words/s, in_qsize 7, out_qsize 0\n",
      "2020-08-10 23:24:40,438 : INFO : worker thread finished; awaiting finish of 3 more threads\n",
      "2020-08-10 23:24:40,445 : INFO : worker thread finished; awaiting finish of 2 more threads\n",
      "2020-08-10 23:24:40,503 : INFO : worker thread finished; awaiting finish of 1 more threads\n",
      "2020-08-10 23:24:40,508 : INFO : worker thread finished; awaiting finish of 0 more threads\n",
      "2020-08-10 23:24:40,509 : INFO : EPOCH - 4 : training on 7166099 raw words (5723105 effective words) took 20.4s, 281172 effective words/s\n",
      "2020-08-10 23:24:41,564 : INFO : EPOCH 5 - PROGRESS: at 3.51% examples, 264059 words/s, in_qsize 8, out_qsize 0\n",
      "2020-08-10 23:24:42,600 : INFO : EPOCH 5 - PROGRESS: at 7.85% examples, 288171 words/s, in_qsize 8, out_qsize 0\n",
      "2020-08-10 23:24:43,657 : INFO : EPOCH 5 - PROGRESS: at 12.53% examples, 288564 words/s, in_qsize 8, out_qsize 0\n",
      "2020-08-10 23:24:44,673 : INFO : EPOCH 5 - PROGRESS: at 17.14% examples, 289154 words/s, in_qsize 8, out_qsize 0\n",
      "2020-08-10 23:24:45,749 : INFO : EPOCH 5 - PROGRESS: at 22.78% examples, 290553 words/s, in_qsize 8, out_qsize 0\n",
      "2020-08-10 23:24:46,792 : INFO : EPOCH 5 - PROGRESS: at 27.12% examples, 291173 words/s, in_qsize 6, out_qsize 1\n",
      "2020-08-10 23:24:47,796 : INFO : EPOCH 5 - PROGRESS: at 31.22% examples, 293150 words/s, in_qsize 7, out_qsize 0\n",
      "2020-08-10 23:24:48,814 : INFO : EPOCH 5 - PROGRESS: at 35.87% examples, 295102 words/s, in_qsize 8, out_qsize 0\n",
      "2020-08-10 23:24:49,832 : INFO : EPOCH 5 - PROGRESS: at 40.73% examples, 296606 words/s, in_qsize 7, out_qsize 0\n",
      "2020-08-10 23:24:50,857 : INFO : EPOCH 5 - PROGRESS: at 44.81% examples, 296095 words/s, in_qsize 8, out_qsize 1\n",
      "2020-08-10 23:24:51,879 : INFO : EPOCH 5 - PROGRESS: at 49.08% examples, 297337 words/s, in_qsize 7, out_qsize 0\n",
      "2020-08-10 23:24:52,943 : INFO : EPOCH 5 - PROGRESS: at 52.81% examples, 296233 words/s, in_qsize 7, out_qsize 0\n",
      "2020-08-10 23:24:53,959 : INFO : EPOCH 5 - PROGRESS: at 57.52% examples, 298499 words/s, in_qsize 8, out_qsize 0\n",
      "2020-08-10 23:24:54,961 : INFO : EPOCH 5 - PROGRESS: at 60.17% examples, 292940 words/s, in_qsize 7, out_qsize 0\n",
      "2020-08-10 23:24:56,040 : INFO : EPOCH 5 - PROGRESS: at 69.16% examples, 291379 words/s, in_qsize 6, out_qsize 1\n",
      "2020-08-10 23:24:57,059 : INFO : EPOCH 5 - PROGRESS: at 74.74% examples, 286405 words/s, in_qsize 7, out_qsize 0\n",
      "2020-08-10 23:24:58,087 : INFO : EPOCH 5 - PROGRESS: at 83.31% examples, 287311 words/s, in_qsize 7, out_qsize 0\n",
      "2020-08-10 23:24:59,096 : INFO : EPOCH 5 - PROGRESS: at 88.68% examples, 288022 words/s, in_qsize 7, out_qsize 0\n",
      "2020-08-10 23:25:00,176 : INFO : EPOCH 5 - PROGRESS: at 97.68% examples, 287647 words/s, in_qsize 6, out_qsize 1\n",
      "2020-08-10 23:25:00,308 : INFO : worker thread finished; awaiting finish of 3 more threads\n",
      "2020-08-10 23:25:00,322 : INFO : worker thread finished; awaiting finish of 2 more threads\n",
      "2020-08-10 23:25:00,375 : INFO : worker thread finished; awaiting finish of 1 more threads\n",
      "2020-08-10 23:25:00,380 : INFO : worker thread finished; awaiting finish of 0 more threads\n",
      "2020-08-10 23:25:00,382 : INFO : EPOCH - 5 : training on 7166099 raw words (5722981 effective words) took 19.8s, 288605 effective words/s\n",
      "2020-08-10 23:25:00,382 : INFO : training on a 35830495 raw words (28614153 effective words) took 102.4s, 279493 effective words/s\n"
     ]
    }
   ],
   "source": [
    "#train model on sentences\n",
    "W2vec.train(sentences, epochs=W2vec.epochs, total_examples=W2vec.corpus_count)\n",
    "\n",
    "#save model\n",
    "if not os.path.exists(\"trained\"):\n",
    "    os.makedirs(\"trained\")"
   ]
  },
  {
   "cell_type": "code",
   "execution_count": 36,
   "metadata": {},
   "outputs": [
    {
     "name": "stderr",
     "output_type": "stream",
     "text": [
      "2020-08-10 23:25:52,866 : INFO : saving Word2Vec object under trained\\w2vec-mala.w2v, separately None\n",
      "2020-08-10 23:25:52,867 : INFO : storing np array 'vectors' to trained\\w2vec-mala.w2v.wv.vectors.npy\n",
      "2020-08-10 23:25:53,429 : INFO : not storing attribute vectors_norm\n",
      "2020-08-10 23:25:53,429 : INFO : storing np array 'syn1' to trained\\w2vec-mala.w2v.trainables.syn1.npy\n",
      "2020-08-10 23:25:54,133 : INFO : storing np array 'syn1neg' to trained\\w2vec-mala.w2v.trainables.syn1neg.npy\n",
      "2020-08-10 23:25:54,929 : INFO : not storing attribute cum_table\n",
      "2020-08-10 23:25:55,562 : INFO : saved trained\\w2vec-mala.w2v\n"
     ]
    }
   ],
   "source": [
    "W2vec.save(os.path.join(\"trained\", \"w2vec-mala.w2v\"))"
   ]
  },
  {
   "cell_type": "code",
   "execution_count": null,
   "metadata": {},
   "outputs": [],
   "source": []
  }
 ],
 "metadata": {
  "kernelspec": {
   "display_name": "Python 3",
   "language": "python",
   "name": "python3"
  },
  "language_info": {
   "codemirror_mode": {
    "name": "ipython",
    "version": 3
   },
   "file_extension": ".py",
   "mimetype": "text/x-python",
   "name": "python",
   "nbconvert_exporter": "python",
   "pygments_lexer": "ipython3",
   "version": "3.6.5"
  }
 },
 "nbformat": 4,
 "nbformat_minor": 2
}
